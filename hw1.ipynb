{
 "cells": [
  {
   "cell_type": "code",
   "execution_count": 7,
   "id": "a1f2987d-2d6b-4b9b-9edb-779a7f62b36d",
   "metadata": {},
   "outputs": [],
   "source": [
    "import numpy as np"
   ]
  },
  {
   "cell_type": "markdown",
   "id": "0e375561-581c-4d99-8fbb-641dc14bd3c7",
   "metadata": {},
   "source": [
    "Створіть одновимірний масив (вектор) з першими 10-ма натуральними числами та виведіть його значення."
   ]
  },
  {
   "cell_type": "code",
   "execution_count": 45,
   "id": "1a987582-3b6b-47df-9ef6-681f9c8687e2",
   "metadata": {
    "tags": []
   },
   "outputs": [
    {
     "name": "stdout",
     "output_type": "stream",
     "text": [
      "[ 1  2  3  4  5  6  7  8  9 10]\n"
     ]
    }
   ],
   "source": [
    "vector = np.arange(1, 11, dtype=int)\n",
    "print(vector)\n"
   ]
  },
  {
   "cell_type": "markdown",
   "id": "d9e5c94d-6857-4e19-b805-200d8fef1901",
   "metadata": {},
   "source": [
    "Створіть двовимірний масив (матрицю) розміром 3x3, заповніть його нулями та виведіть його значення.\n"
   ]
  },
  {
   "cell_type": "code",
   "execution_count": 41,
   "id": "35d685d0-97fa-4cb4-8559-d8d3969aa092",
   "metadata": {},
   "outputs": [
    {
     "name": "stdout",
     "output_type": "stream",
     "text": [
      "[[0 0 0]\n",
      " [0 0 0]\n",
      " [0 0 0]]\n"
     ]
    }
   ],
   "source": [
    "matrix = np.zeros((3, 3), dtype=int)\n",
    "print(matrix)"
   ]
  },
  {
   "cell_type": "markdown",
   "id": "743b21b0-009f-400a-b7ac-e1f36bf43683",
   "metadata": {},
   "source": [
    "\n",
    "Створіть масив розміром 5x5, заповніть його випадковими цілими числами в діапазоні від 1 до 10 та виведіть його значення.\n",
    "\n"
   ]
  },
  {
   "cell_type": "code",
   "execution_count": 35,
   "id": "11e95f1b-b83c-4c92-877a-70fbb7f21d7d",
   "metadata": {},
   "outputs": [
    {
     "name": "stdout",
     "output_type": "stream",
     "text": [
      "[[2 8 3]\n",
      " [8 1 9]\n",
      " [6 1 5]]\n"
     ]
    }
   ],
   "source": [
    "random_array = np.random.randint(1, 11, size=(3, 3))\n",
    "print(random_array)"
   ]
  },
  {
   "cell_type": "markdown",
   "id": "d721ff76-dd58-41ed-871d-5c191853471c",
   "metadata": {},
   "source": [
    "Створіть масив розміром 4x4, заповніть його випадковими дійсними числами в діапазоні від 0 до 1 та виведіть його значення."
   ]
  },
  {
   "cell_type": "code",
   "execution_count": 57,
   "id": "bed85cc6-009f-4930-a2f3-6cf192e312e8",
   "metadata": {},
   "outputs": [
    {
     "name": "stdout",
     "output_type": "stream",
     "text": [
      "[[8.25336454 4.47423606 6.23693326]\n",
      " [2.76639188 6.74079301 2.19226757]\n",
      " [9.82315879 4.70041042 2.65061821]]\n"
     ]
    }
   ],
   "source": [
    "random_array = np.random.uniform(1, 10, size=(3, 3))\n",
    "print(random_array)"
   ]
  },
  {
   "cell_type": "markdown",
   "id": "df910693-40c0-4f61-9701-906707c50e10",
   "metadata": {},
   "source": [
    "Створіть два одновимірних масиви розміром 5, заповніть їх випадковими цілими числами в діапазоні від 1 до 10 та виконайте на них поелементні операції додавання, віднімання та множення."
   ]
  },
  {
   "cell_type": "code",
   "execution_count": 55,
   "id": "79924b88-fa76-4e2b-bd69-25b8ef71689f",
   "metadata": {},
   "outputs": [
    {
     "name": "stdout",
     "output_type": "stream",
     "text": [
      "ar1: [ 2  2  2 10  6]\n",
      "ar2: [9 8 6 3 8]\n",
      "Sum: [11 10  8 13 14]\n",
      "Difference: [-7 -6 -4  7 -2]\n",
      "Product: [18 16 12 30 48]\n"
     ]
    }
   ],
   "source": [
    "# Arrays\n",
    "ar1 = np.random.randint(1, 11, size=5)\n",
    "print(\"ar1:\", ar1)\n",
    "ar2 = np.random.randint(1, 11, size=5)\n",
    "print(\"ar2:\", ar2)\n",
    "\n",
    "# Element-wise Sum\n",
    "sum_array = ar1 + ar2\n",
    "print(\"Sum:\", sum_array)\n",
    "\n",
    "# Element-wise Difference\n",
    "difference_array = ar1 - ar2\n",
    "print(\"Difference:\", difference_array)\n",
    "\n",
    "# Element-wise Multiplication\n",
    "product_array = ar1 * ar2\n",
    "print(\"Product:\", product_array)"
   ]
  },
  {
   "cell_type": "markdown",
   "id": "f541def0-f62b-4231-8689-1b4aba764735",
   "metadata": {},
   "source": [
    "Створіть два вектори розміром 7, заповніть довільними числами та знайдіть їх скалярний добуток."
   ]
  },
  {
   "cell_type": "code",
   "execution_count": 59,
   "id": "0a551742-2dbd-475b-889e-9b85bf54d670",
   "metadata": {},
   "outputs": [
    {
     "name": "stdout",
     "output_type": "stream",
     "text": [
      "ar1: [1.15832226 4.60471515 8.22091784 6.98186338 8.57309545 9.47857411\n",
      " 8.15001616]\n",
      "ar2: [ 3.14312413 10.74301677  2.47553051  9.01618863  8.57941387  6.28127057\n",
      " 10.41319869]\n",
      "Dot Product: 354.3675731264317\n"
     ]
    }
   ],
   "source": [
    "# Arrays\n",
    "ar1 = np.random.uniform(1, 11, size=7)\n",
    "print(\"ar1:\", ar1)\n",
    "ar2 = np.random.uniform(1, 11, size=7)\n",
    "print(\"ar2:\", ar2)\n",
    "\n",
    "# Dot Product\n",
    "dot_product = np.dot(ar1, ar2)\n",
    "print(\"Dot Product:\", dot_product)"
   ]
  },
  {
   "cell_type": "markdown",
   "id": "6dda866a-13d5-4f72-af7c-54c97b665b6e",
   "metadata": {},
   "source": [
    "Створіть дві матриці розміром 2x2 та 2x3, заповніть їх випадковими цілими числами в діапазоні від 1 до 10 та перемножте їх між собою."
   ]
  },
  {
   "cell_type": "code",
   "execution_count": 69,
   "id": "b8f7e828-8158-4274-815a-828cc8a0a13a",
   "metadata": {},
   "outputs": [
    {
     "name": "stdout",
     "output_type": "stream",
     "text": [
      "Matrix A (2x2):\n",
      " [[4 3]\n",
      " [6 2]]\n",
      "Matrix B (2x3):\n",
      " [[6 3 1]\n",
      " [1 3 5]]\n",
      "Product (Matrix A * Matrix B):\n",
      " [[27 21 19]\n",
      " [38 24 16]]\n"
     ]
    }
   ],
   "source": [
    "# Create a 2x2 matrix\n",
    "matrix_a = np.random.randint(1, 11, size=(2, 2))\n",
    "print(\"Matrix A (2x2):\\n\", matrix_a)\n",
    "\n",
    "# Create a 2x3 matrix\n",
    "matrix_b = np.random.randint(1, 11, size=(2, 3))\n",
    "print(\"Matrix B (2x3):\\n\", matrix_b)\n",
    "\n",
    "# Matrix multiplication\n",
    "product_matrix = matrix_a @ matrix_b \n",
    "# np.matmul(matrix_a, matrix_b) is the same thing as @, np.dot(matrix_a, matrix_b) acts counterintuitive on tensors\n",
    "\n",
    "print(\"Product (Matrix A * Matrix B):\\n\", product_matrix)"
   ]
  },
  {
   "cell_type": "markdown",
   "id": "e4e76f54-302c-49c0-abdb-37eb9b790567",
   "metadata": {},
   "source": [
    "Створіть матрицю розміром 3x3, заповніть її випадковими цілими числами в діапазоні від 1 до 10 та знайдіть її обернену матрицю."
   ]
  },
  {
   "cell_type": "code",
   "execution_count": 65,
   "id": "59eb1243-ffe0-401a-bf01-62c5e9d4fff4",
   "metadata": {},
   "outputs": [
    {
     "name": "stdout",
     "output_type": "stream",
     "text": [
      "Matrix:\n",
      " [[ 5 10  5]\n",
      " [ 4  7  6]\n",
      " [10  2 10]]\n",
      "Inverse of the Matrix:\n",
      " [[ 0.32222222 -0.5         0.13888889]\n",
      " [ 0.11111111  0.         -0.05555556]\n",
      " [-0.34444444  0.5        -0.02777778]]\n",
      "Check: matrix @ inverse_matrix \n",
      " [[1.00000000e+00 0.00000000e+00 1.66533454e-16]\n",
      " [2.22044605e-16 1.00000000e+00 8.32667268e-17]\n",
      " [2.22044605e-16 0.00000000e+00 1.00000000e+00]]\n"
     ]
    }
   ],
   "source": [
    "# Generate a random 3x3 matrix\n",
    "matrix = np.random.randint(1, 11, size=(3, 3))\n",
    "\n",
    "# Compute the inverse of the matrix\n",
    "inverse_matrix = np.linalg.inv(matrix)\n",
    "\n",
    "# Check\n",
    "check = matrix @ inverse_matrix\n",
    "\n",
    "# Output the matrix and its inverse\n",
    "print(\"Matrix:\\n\", matrix)\n",
    "print(\"Inverse of the Matrix:\\n\", inverse_matrix)\n",
    "print(\"Check: matrix @ inverse_matrix \\n\", check) # almost lol, but it's python, up to 10^(-15)"
   ]
  },
  {
   "cell_type": "markdown",
   "id": "134460f3-a0b6-40af-b397-5fc998182f97",
   "metadata": {},
   "source": [
    "Створіть матрицю розміром 4x4, заповніть її випадковими дійсними числами в діапазоні від 0 до 1 та транспонуйте її."
   ]
  },
  {
   "cell_type": "code",
   "execution_count": 73,
   "id": "e03fcd25-a092-4597-8594-d0c3e6a10d84",
   "metadata": {},
   "outputs": [
    {
     "name": "stdout",
     "output_type": "stream",
     "text": [
      "Matrix:\n",
      " [[0.67366875 0.38544835 0.97712629 0.30129761]\n",
      " [0.0554489  0.39600222 0.58198972 0.01242378]\n",
      " [0.85792259 0.65273712 0.57724078 0.03390983]\n",
      " [0.44250054 0.2940478  0.43813021 0.41902904]]\n",
      "Transposed Matrix:\n",
      " [[0.67366875 0.0554489  0.85792259 0.44250054]\n",
      " [0.38544835 0.39600222 0.65273712 0.2940478 ]\n",
      " [0.97712629 0.58198972 0.57724078 0.43813021]\n",
      " [0.30129761 0.01242378 0.03390983 0.41902904]]\n"
     ]
    }
   ],
   "source": [
    "# Generate a random 4x4 matrix with values in the range [0, 1)\n",
    "matrix = np.random.rand(4, 4)\n",
    "\n",
    "# Compute the transpose of the matrix\n",
    "transposed_matrix = matrix.T\n",
    "\n",
    "# Output the matrix and its transpose\n",
    "print(\"Matrix:\\n\", matrix)\n",
    "print(\"Transposed Matrix:\\n\", transposed_matrix)"
   ]
  },
  {
   "cell_type": "markdown",
   "id": "17155001-9a7f-4dee-9108-e9d7bc08212e",
   "metadata": {},
   "source": [
    "\n",
    "Створіть матрицю розміром 3x4 та вектор розміром 4, заповніть їх випадковими цілими числами в діапазоні від 1 до 10 та перемножте матрицю на вектор.\n"
   ]
  },
  {
   "cell_type": "code",
   "execution_count": 75,
   "id": "23aee32f-3256-497b-a564-94e64413b62b",
   "metadata": {},
   "outputs": [
    {
     "name": "stdout",
     "output_type": "stream",
     "text": [
      "Matrix:\n",
      " [[ 1  1  3  8]\n",
      " [ 2  7  3 10]\n",
      " [ 5  4  6  7]]\n",
      "Vector:\n",
      " [3 2 8 1]\n",
      "Result:\n",
      " [37 54 78]\n"
     ]
    }
   ],
   "source": [
    "# Generate a random 3x4 matrix\n",
    "matrix = np.random.randint(1, 11, size=(3, 4))\n",
    "\n",
    "# Generate a random vector\n",
    "vector = np.random.randint(1, 11, size=4)\n",
    "\n",
    "# Multiplication matrix @ vector\n",
    "result = matrix @ vector\n",
    "\n",
    "# Output\n",
    "print(\"Matrix:\\n\", matrix)\n",
    "print(\"Vector:\\n\", vector)\n",
    "print(\"Result:\\n\", result)"
   ]
  },
  {
   "cell_type": "markdown",
   "id": "0c757650-e104-4e72-8d0e-5f981fddfa63",
   "metadata": {},
   "source": [
    "\n",
    "Створіть матрицю розміром 2x3 та вектор розміром 3, заповніть їх випадковими дійсними числами в діапазоні від 0 до 1 та перемножте матрицю на вектор.\n",
    "\n"
   ]
  },
  {
   "cell_type": "code",
   "execution_count": 77,
   "id": "cb69fef0-8d86-4d3c-9836-324e5806762b",
   "metadata": {},
   "outputs": [
    {
     "name": "stdout",
     "output_type": "stream",
     "text": [
      "Matrix:\n",
      " [[0.073357   0.80013362 0.3159215 ]\n",
      " [0.96861702 0.66600707 0.57836104]]\n",
      "Vector:\n",
      " [0.5110327  0.15432105 0.05518974]\n",
      "Result:\n",
      " [0.17840091 0.62969347]\n"
     ]
    }
   ],
   "source": [
    "# Generate a random 2x3 matrix with values in the range [0, 1)\n",
    "matrix = np.random.rand(2, 3)\n",
    "\n",
    "# Generate a random vector\n",
    "vector = np.random.rand(3)\n",
    "\n",
    "# Multiplication matrix @ vector\n",
    "result = matrix @ vector\n",
    "\n",
    "# Output\n",
    "print(\"Matrix:\\n\", matrix)\n",
    "print(\"Vector:\\n\", vector)\n",
    "print(\"Result:\\n\", result)"
   ]
  },
  {
   "cell_type": "markdown",
   "id": "407d3968-76d6-4a7d-8b0a-b727f84006c2",
   "metadata": {},
   "source": [
    "Створіть дві матриці розміром 2x2, заповніть їх випадковими цілими числами в діапазоні від 1 до 10 та виконайте їхнє поелементне множення.\n"
   ]
  },
  {
   "cell_type": "code",
   "execution_count": 79,
   "id": "305ef54c-2c4d-4c6d-a1ba-2dbdd97d3a5c",
   "metadata": {},
   "outputs": [
    {
     "name": "stdout",
     "output_type": "stream",
     "text": [
      "Matrix1:\n",
      " [[1 7]\n",
      " [2 9]]\n",
      "Matrix2:\n",
      " [[ 1  4]\n",
      " [10  8]]\n",
      "Result:\n",
      " [[ 1 28]\n",
      " [20 72]]\n"
     ]
    }
   ],
   "source": [
    "# Generate random 2x2 matriсes\n",
    "matrix1 = np.random.randint(1, 11, size=(2, 2))\n",
    "matrix2 = np.random.randint(1, 11, size=(2, 2))\n",
    "\n",
    "# Multiplication matrix * matrix\n",
    "result = matrix1 * matrix2\n",
    "\n",
    "# Output\n",
    "print(\"Matrix1:\\n\", matrix1)\n",
    "print(\"Matrix2:\\n\", matrix2)\n",
    "print(\"Result:\\n\", result)"
   ]
  },
  {
   "cell_type": "markdown",
   "id": "c5f65a50-05f6-47c9-b4d1-7949eef851d5",
   "metadata": {},
   "source": [
    "\n",
    "Створіть дві матриці розміром 2x2, заповніть їх випадковими цілими числами в діапазоні від 1 до 10 та знайдіть їх добуток.\n",
    "\n"
   ]
  },
  {
   "cell_type": "code",
   "execution_count": 81,
   "id": "a926ccf7-7cbb-403e-9384-93f392398b9f",
   "metadata": {},
   "outputs": [
    {
     "name": "stdout",
     "output_type": "stream",
     "text": [
      "Matrix1:\n",
      " [[ 5 10]\n",
      " [ 2  8]]\n",
      "Matrix2:\n",
      " [[ 3  8]\n",
      " [10  4]]\n",
      "Result:\n",
      " [[115  80]\n",
      " [ 86  48]]\n"
     ]
    }
   ],
   "source": [
    "# Generate random 2x2 matriсes\n",
    "matrix1 = np.random.randint(1, 11, size=(2, 2))\n",
    "matrix2 = np.random.randint(1, 11, size=(2, 2))\n",
    "\n",
    "# Multiplication matrix @ matrix\n",
    "result = matrix1 @ matrix2\n",
    "\n",
    "# Output\n",
    "print(\"Matrix1:\\n\", matrix1)\n",
    "print(\"Matrix2:\\n\", matrix2)\n",
    "print(\"Result:\\n\", result)"
   ]
  },
  {
   "cell_type": "markdown",
   "id": "a5e500ff-c5ac-4f51-99d0-9054c5e0c313",
   "metadata": {},
   "source": [
    "Створіть матрицю розміром 5x5, заповніть її випадковими цілими числами в діапазоні від 1 до 100 та знайдіть суму елементів матриці.\n"
   ]
  },
  {
   "cell_type": "code",
   "execution_count": 85,
   "id": "4ec4964d-a346-4005-9299-80f3500f4f89",
   "metadata": {},
   "outputs": [
    {
     "name": "stdout",
     "output_type": "stream",
     "text": [
      "Matrix:\n",
      " [[ 88  88  36  45  55]\n",
      " [ 29 100  75  60  27]\n",
      " [ 24  70  44  50  77]\n",
      " [ 81  30  21  81  68]\n",
      " [ 14   8  61  11 100]]\n",
      "Sum:\n",
      " 1343\n"
     ]
    }
   ],
   "source": [
    "# Generate a random 5x5 matrix with values in the range [1, 100]\n",
    "matrix = np.random.randint(1, 101, size=(5, 5))\n",
    "\n",
    "# Compute the sum of all the elements in the matrix\n",
    "sum_of_elements = np.sum(matrix)\n",
    "\n",
    "# Output\n",
    "print(\"Matrix:\\n\", matrix)\n",
    "print(\"Sum:\\n\", sum_of_elements)"
   ]
  },
  {
   "cell_type": "markdown",
   "id": "52646cb7-e474-4281-ac54-296c62cc44ec",
   "metadata": {
    "tags": []
   },
   "source": [
    "\n",
    "Створіть дві матриці розміром 4x4, заповніть їх випадковими цілими числами в діапазоні від 1 до 10 та знайдіть їхню різницю.\n"
   ]
  },
  {
   "cell_type": "code",
   "execution_count": 87,
   "id": "664a3856-6e88-4f1c-852e-1b6f1a40359a",
   "metadata": {},
   "outputs": [
    {
     "name": "stdout",
     "output_type": "stream",
     "text": [
      "Matrix1:\n",
      " [[1 2 6 2]\n",
      " [1 7 7 7]\n",
      " [8 8 7 2]\n",
      " [2 3 4 2]]\n",
      "Matrix2:\n",
      " [[10  7  6  7]\n",
      " [ 2  1  5  4]\n",
      " [ 8  8  7  5]\n",
      " [ 5  9  4  3]]\n",
      "Result:\n",
      " [[-9 -5  0 -5]\n",
      " [-1  6  2  3]\n",
      " [ 0  0  0 -3]\n",
      " [-3 -6  0 -1]]\n"
     ]
    }
   ],
   "source": [
    "# Generate random 2x2 matriсes\n",
    "matrix1 = np.random.randint(1, 11, size=(4, 4))\n",
    "matrix2 = np.random.randint(1, 11, size=(4, 4))\n",
    "\n",
    "# Difference matrix - matrix\n",
    "result = matrix1 - matrix2\n",
    "\n",
    "# Output\n",
    "print(\"Matrix1:\\n\", matrix1)\n",
    "print(\"Matrix2:\\n\", matrix2)\n",
    "print(\"Result:\\n\", result)"
   ]
  },
  {
   "cell_type": "markdown",
   "id": "e14a2cf9-d42c-423a-adc1-b63fc08236aa",
   "metadata": {
    "tags": []
   },
   "source": [
    "\n",
    "Створіть матрицю розміром 3x3, заповніть її випадковими дійсними числами в діапазоні від 0 до 1 та знайдіть вектор-стовпчик, що містить суму елементів кожного рядка матриці."
   ]
  },
  {
   "cell_type": "code",
   "execution_count": 91,
   "id": "47d03c75-fa49-4fd9-8b7e-1eb378627d6a",
   "metadata": {},
   "outputs": [
    {
     "name": "stdout",
     "output_type": "stream",
     "text": [
      "Matrix:\n",
      " [[0.62157568 0.10062823 0.8144922 ]\n",
      " [0.74515813 0.57953868 0.38813942]\n",
      " [0.6242079  0.59259691 0.68447621]]\n",
      "Sum of each row: [1.53669611 1.71283624 1.90128102]\n"
     ]
    }
   ],
   "source": [
    "# Generate a random 3x3 matrix with values in the range [0, 1)\n",
    "matrix = np.random.rand(3, 3)\n",
    "\n",
    "# Compute the sum of each row\n",
    "sum_of_rows = np.sum(matrix, axis=1)\n",
    "\n",
    "# Output the matrix and the sum of rows\n",
    "print(\"Matrix:\\n\", matrix)\n",
    "print(\"Sum of each row:\", sum_of_rows)\n",
    "\n",
    "# One could also just multiply it by (1,1,1)"
   ]
  },
  {
   "cell_type": "markdown",
   "id": "f063f0cc-8018-4805-8494-3bc878936493",
   "metadata": {
    "tags": []
   },
   "source": [
    "Створіть матрицю розміром 3x4 з довільними цілими числами і створінь матрицю з квадратами цих чисел."
   ]
  },
  {
   "cell_type": "code",
   "execution_count": 101,
   "id": "c3590232-5791-4f6a-bccd-876857759b91",
   "metadata": {},
   "outputs": [
    {
     "name": "stdout",
     "output_type": "stream",
     "text": [
      "Original Matrix:\n",
      " [[1 1 5 4]\n",
      " [5 2 3 4]\n",
      " [5 2 3 2]]\n",
      "Squared Matrix:\n",
      " [[ 1  1 25 16]\n",
      " [25  4  9 16]\n",
      " [25  4  9  4]]\n"
     ]
    }
   ],
   "source": [
    "# Generate a random 3x4 matrix with integer values \n",
    "matrix = np.random.randint(1, 6, size=(3, 4))\n",
    "\n",
    "# Compute the square of each element in the matrix\n",
    "squared_matrix = np.square(matrix)\n",
    "\n",
    "# Output the original matrix and its squared version\n",
    "print(\"Original Matrix:\\n\", matrix)\n",
    "print(\"Squared Matrix:\\n\", squared_matrix)"
   ]
  },
  {
   "cell_type": "markdown",
   "id": "6af7e67a-0e37-48fb-b6cb-53912d546984",
   "metadata": {},
   "source": [
    "Створіть вектор розміром 4, заповніть його випадковими цілими числами в діапазоні від 1 до 50 та знайдіть вектор з квадратними коренями цих чисел."
   ]
  },
  {
   "cell_type": "code",
   "execution_count": 103,
   "id": "d67b691b-af03-4781-a1be-70566d061a30",
   "metadata": {},
   "outputs": [
    {
     "name": "stdout",
     "output_type": "stream",
     "text": [
      "Original Vector:\n",
      " [13 35 24 42]\n",
      "Square Root Vector:\n",
      " [3.60555128 5.91607978 4.89897949 6.4807407 ]\n"
     ]
    }
   ],
   "source": [
    "# Generate a random vector with integer values in the range 1 to 50\n",
    "vector = np.random.randint(1, 51, size=4)\n",
    "\n",
    "# Compute the square root of each element in the matrix\n",
    "sqrt_vector = np.sqrt(vector)\n",
    "\n",
    "# Output the original matrix and the square root matrix\n",
    "print(\"Original Vector:\\n\", vector)\n",
    "print(\"Square Root Vector:\\n\", sqrt_vector)"
   ]
  }
 ],
 "metadata": {
  "kernelspec": {
   "display_name": "anaconda-panel-2023.05-py310",
   "language": "python",
   "name": "conda-env-anaconda-panel-2023.05-py310-py"
  },
  "language_info": {
   "codemirror_mode": {
    "name": "ipython",
    "version": 3
   },
   "file_extension": ".py",
   "mimetype": "text/x-python",
   "name": "python",
   "nbconvert_exporter": "python",
   "pygments_lexer": "ipython3",
   "version": "3.11.5"
  },
  "widgets": {
   "application/vnd.jupyter.widget-state+json": {
    "state": {},
    "version_major": 2,
    "version_minor": 0
   }
  }
 },
 "nbformat": 4,
 "nbformat_minor": 5
}
